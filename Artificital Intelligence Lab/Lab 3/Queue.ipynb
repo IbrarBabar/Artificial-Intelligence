{
 "cells": [
  {
   "cell_type": "code",
   "execution_count": 7,
   "id": "c9541d67-f4b7-4c8a-9bdd-3a65a5bd785d",
   "metadata": {},
   "outputs": [
    {
     "name": "stdout",
     "output_type": "stream",
     "text": [
      "[1, 2, 3, 4, 5]\n",
      "After removing an element\n",
      "[2, 3, 4, 5]\n"
     ]
    }
   ],
   "source": [
    "class Queue:\n",
    "\n",
    "    def __init__(self):\n",
    "        self.size=5\n",
    "        self.q = list(range(self.size))\n",
    "        self.i=0\n",
    "        self.o=0\n",
    "        self.is_empty=True\n",
    "        self.is_full = False\n",
    "        self.queue = []\n",
    "            \n",
    "    def __str__(self):\n",
    "        ret_str = '['\n",
    "        temp= self.head\n",
    "        while temp is not None:\n",
    "            ret_str +=str(temp.val) + ', '\n",
    "            temp= temp.next\n",
    "\n",
    "        ret_str= ret_str.rstrip(\", \")\n",
    "        ret_str += \"]\"\n",
    "        return ret_str\n",
    "\n",
    "\n",
    "    def enqueue(self, val):\n",
    "        self.queue.append(val)\n",
    "\n",
    "    def dequeue(self):\n",
    "        if len(self.queue) < 1:\n",
    "            return None\n",
    "        return self.queue.pop(0)\n",
    "\n",
    "   \n",
    "    def display(self):\n",
    "        print(self.queue)\n",
    "\n",
    "   \n",
    "\n",
    "\n",
    "object = Queue()\n",
    "object.enqueue(1)\n",
    "object.enqueue(2)\n",
    "object.enqueue(3)\n",
    "object.enqueue(4)\n",
    "object.enqueue(5)\n",
    "\n",
    "object.display()\n",
    "\n",
    "object.dequeue()\n",
    "\n",
    "print(\"After removing an element\")\n",
    "object.display()"
   ]
  },
  {
   "cell_type": "code",
   "execution_count": null,
   "id": "ad75d8b0-572b-44c5-b747-daea38e6bd68",
   "metadata": {},
   "outputs": [],
   "source": []
  }
 ],
 "metadata": {
  "kernelspec": {
   "display_name": "Python 3 (ipykernel)",
   "language": "python",
   "name": "python3"
  },
  "language_info": {
   "codemirror_mode": {
    "name": "ipython",
    "version": 3
   },
   "file_extension": ".py",
   "mimetype": "text/x-python",
   "name": "python",
   "nbconvert_exporter": "python",
   "pygments_lexer": "ipython3",
   "version": "3.9.7"
  }
 },
 "nbformat": 4,
 "nbformat_minor": 5
}
