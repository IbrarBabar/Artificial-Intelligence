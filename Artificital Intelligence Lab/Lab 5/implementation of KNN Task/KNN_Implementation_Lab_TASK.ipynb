{
 "cells": [
  {
   "cell_type": "code",
   "execution_count": null,
   "id": "cf2f04b0-d970-4ee9-8c5a-bcf656079dbd",
   "metadata": {},
   "outputs": [],
   "source": [
    "import pandas as pd\n",
    "import numpy as np\n",
    "from collections import Counter\n",
    "from sklearn.metrics import accuracy_score,confusion_matrix\n",
    "\n",
    "df = pd.read_csv(\"fruit_data_with_colors.txt\",delimiter = \"\\t\")\n",
    "df.head()\n",
    "\n",
    "X = df[[\"mass\",\"width\",\"height\",\"color_score\"]]\n",
    "\n",
    "Y = df[\"fruit_label\"]\n",
    "\n",
    "trainX = np.array(X[:50])\n",
    "trainY = np.array(Y[:50])\n",
    "testX = np.array(X[50:])\n",
    "testY = np.array(Y[50:])\n",
    "\n",
    "class KNN:\n",
    "    def _init_(self,k = 1):\n",
    "        self.k = k\n",
    "        \n",
    "    def euclidian_distance(self,query,X):\n",
    "        difference = np.array(X) - np.array(query)\n",
    "        sqrd_diff = np.square(difference)\n",
    "        sum_sqrd_diff = np.sum(sqrd_diff, axis = 1)\n",
    "        distance = np.sqrt(sum_sqrd_diff)\n",
    "        return distance\n",
    "    \n",
    "    def nearest_neighbours(self,distance):\n",
    "        return np.argsort(distance)[:self.k]\n",
    "    \n",
    "    def predict(self,query,trainX,trainY):\n",
    "        ed = self.euclidian_distance(query,trainX)\n",
    "        nn = self.nearest_neighbours(ed)\n",
    "        labels_nn = list(trainY[nn])\n",
    "        return max(labels_nn, key = labels_nn.count) \n",
    "    \n",
    "classifier = KNN(3)\n",
    "\n",
    "predictions = [classifier.predict(x,trainX,trainY) for x in testX]\n",
    "preds = np.array(predictions)\n",
    "\n",
    "print(\"Predicted Outcomes: \")\n",
    "print(preds)\n",
    "\n",
    "print(\"Actual Outcomes: \")\n",
    "print(testY)\n",
    "\n",
    "print(\"Confusion Matrix: \")\n",
    "print(confusion_matrix(testY,predictions))\n",
    "\n",
    "print(\"Accuracy Score: \")\n",
    "print(accuracy_score(testY,predictions))"
   ]
  },
  {
   "cell_type": "code",
   "execution_count": null,
   "id": "b651cca0-e485-4305-98c3-392f902a5269",
   "metadata": {},
   "outputs": [],
   "source": []
  },
  {
   "cell_type": "code",
   "execution_count": null,
   "id": "4969114f-4683-4af3-a837-9e0426b68e13",
   "metadata": {},
   "outputs": [],
   "source": []
  }
 ],
 "metadata": {
  "kernelspec": {
   "display_name": "Python 3 (ipykernel)",
   "language": "python",
   "name": "python3"
  },
  "language_info": {
   "codemirror_mode": {
    "name": "ipython",
    "version": 3
   },
   "file_extension": ".py",
   "mimetype": "text/x-python",
   "name": "python",
   "nbconvert_exporter": "python",
   "pygments_lexer": "ipython3",
   "version": "3.9.7"
  }
 },
 "nbformat": 4,
 "nbformat_minor": 5
}
